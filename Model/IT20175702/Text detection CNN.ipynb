{
 "cells": [
  {
   "cell_type": "markdown",
   "id": "3fb34625",
   "metadata": {},
   "source": [
    "### Import the necessary libraries"
   ]
  },
  {
   "cell_type": "code",
   "execution_count": 12,
   "id": "ada690aa",
   "metadata": {},
   "outputs": [],
   "source": [
    "import numpy as np\n",
    "import cv2\n",
    "import os\n",
    "from sklearn.model_selection import train_test_split\n",
    "import matplotlib.pyplot as plt\n",
    "from keras.preprocessing.image import ImageDataGenerator\n",
    "from keras.utils.np_utils import to_categorical\n",
    "from tensorflow.keras.models import Sequential\n",
    "from tensorflow.keras.layers import Conv2D, MaxPooling2D, Flatten, Dense\n",
    "from sklearn.metrics import classification_report, confusion_matrix\n",
    "#from tensorflow.keras.preprocessing.image import ImageDataGenerator"
   ]
  },
  {
   "cell_type": "markdown",
   "id": "f31225a9",
   "metadata": {},
   "source": [
    "### Load the dataset and preprocess the images"
   ]
  },
  {
   "cell_type": "code",
   "execution_count": 9,
   "id": "35656176",
   "metadata": {},
   "outputs": [
    {
     "name": "stdout",
     "output_type": "stream",
     "text": [
      "Total No of classes Detected  124\n"
     ]
    }
   ],
   "source": [
    "path = \"mydataset\"\n",
    "\n",
    "image_size = (32, 32)\n",
    "\n",
    "images = []\n",
    "classNo = []\n",
    "\n",
    "myList = os.listdir(path)\n",
    "print(\"Total No of classes Detected \",len(myList))\n",
    "noOfClasses = len(myList)"
   ]
  },
  {
   "cell_type": "code",
   "execution_count": 10,
   "id": "197e5ea8",
   "metadata": {},
   "outputs": [
    {
     "name": "stdout",
     "output_type": "stream",
     "text": [
      " \n",
      "(20628, 32, 32, 3)\n"
     ]
    }
   ],
   "source": [
    "for x in range (0,noOfClasses):\n",
    "    myPicList = os.listdir(path+\"/\"+str(x))\n",
    "    for y in myPicList:\n",
    "        curImg = cv2.imread(path+\"/\"+str(x)+\"/\"+y)\n",
    "        curImg = cv2.resize(curImg,image_size)\n",
    "        curImg = curImg/255.0 # Normalize the image\n",
    "        images.append(curImg)\n",
    "        classNo.append(x)\n",
    "    #print(x,end=\" \")\n",
    "print(\" \")\n",
    "\n",
    "images = np.array(images)\n",
    "classNo = np.array(classNo)\n",
    "\n",
    "print(images.shape)"
   ]
  },
  {
   "cell_type": "markdown",
   "id": "aff4a672",
   "metadata": {},
   "source": [
    "### Split the dataset into training and testing sets"
   ]
  },
  {
   "cell_type": "code",
   "execution_count": 4,
   "id": "1edb8f8f",
   "metadata": {},
   "outputs": [
    {
     "name": "stdout",
     "output_type": "stream",
     "text": [
      "(16502, 32, 32, 3)\n",
      "(4126, 32, 32, 3)\n"
     ]
    }
   ],
   "source": [
    "X_train, X_test, y_train, y_test = train_test_split(images, classNo, test_size=0.2, random_state=42)\n",
    "print(X_train.shape)\n",
    "print(X_test.shape)"
   ]
  },
  {
   "cell_type": "code",
   "execution_count": 5,
   "id": "81a02480",
   "metadata": {},
   "outputs": [
    {
     "data": {
      "image/png": "[encoded data removed]",
      "text/plain": [
       "<Figure size 1000x500 with 1 Axes>"
      ]
     },
     "metadata": {},
     "output_type": "display_data"
    },
    {
     "name": "stdout",
     "output_type": "stream",
     "text": [
      "(32, 32, 3)\n"
     ]
    }
   ],
   "source": [
    "numOfSamples = []\n",
    "for x in range(0,noOfClasses):\n",
    "    numOfSamples.append(len(np.where(y_train==x)[0]))\n",
    "#print(numOfSamples)\n",
    "\n",
    "plt.figure(figsize=(10,5))\n",
    "plt.bar(range(0,noOfClasses),numOfSamples)\n",
    "plt.title(\"No of images for each class\")\n",
    "plt.xlabel(\"Class ID\")\n",
    "plt.ylabel(\"No Of Images\")\n",
    "plt.show()\n",
    "print(X_train[30].shape)"
   ]
  },
  {
   "cell_type": "code",
   "execution_count": 6,
   "id": "f72739f1",
   "metadata": {},
   "outputs": [],
   "source": [
    "def preProcessing(img):\n",
    "    img = cv2.normalize(img, None, alpha=0, beta=255, norm_type=cv2.NORM_MINMAX, dtype=cv2.CV_8U)\n",
    "    img = cv2.cvtColor(img, cv2.COLOR_BGR2GRAY) \n",
    "    img = cv2.equalizeHist(img)\n",
    "    img = img/255\n",
    "    return img\n",
    "\n",
    "#img = preProcessing(X_train[30])\n",
    "#img = cv2.resize(img,(300,300))\n",
    "#cv2.imshow(\"PreProcessed\",img)\n",
    "#cv2.waitKey(0)\n",
    "\n",
    "X_train = np.array(list(map(preProcessing,X_train)))\n",
    "X_test = np.array(list(map(preProcessing,X_test)))"
   ]
  },
  {
   "cell_type": "code",
   "execution_count": 7,
   "id": "4c6ad33f",
   "metadata": {},
   "outputs": [],
   "source": [
    "X_train = X_train.reshape(X_train.shape[0],X_train.shape[1],X_train.shape[2],1)\n",
    "X_test = X_test.reshape(X_test.shape[0],X_test.shape[1],X_test.shape[2],1)"
   ]
  },
  {
   "cell_type": "markdown",
   "id": "622721c6",
   "metadata": {},
   "source": [
    "### Define the CNN model architecture"
   ]
  },
  {
   "cell_type": "code",
   "execution_count": 13,
   "id": "30c4dc5b",
   "metadata": {},
   "outputs": [],
   "source": [
    "model = Sequential()\n",
    "model.add(Conv2D(32, (3, 3), activation='relu', input_shape=(image_size[0], image_size[1], 1)))\n",
    "model.add(MaxPooling2D((2, 2)))\n",
    "model.add(Conv2D(64, (3, 3), activation='relu'))\n",
    "model.add(MaxPooling2D((2, 2)))\n",
    "model.add(Flatten())\n",
    "model.add(Dense(64, activation='relu'))\n",
    "model.add(Dense(len(os.listdir(path)), activation='softmax'))\n",
    "\n",
    "model.compile(optimizer='adam', loss='sparse_categorical_crossentropy', metrics=['accuracy'])"
   ]
  },
  {
   "cell_type": "markdown",
   "id": "c79e8b3a",
   "metadata": {},
   "source": [
    "### Train the CNN model"
   ]
  },
  {
   "cell_type": "code",
   "execution_count": 14,
   "id": "c5328fd3",
   "metadata": {},
   "outputs": [
    {
     "name": "stdout",
     "output_type": "stream",
     "text": [
      "Epoch 1/10\n",
      "516/516 [==============================] - 10s 17ms/step - loss: 3.7011 - accuracy: 0.2032 - val_loss: 2.2713 - val_accuracy: 0.4476\n",
      "Epoch 2/10\n",
      "516/516 [==============================] - 8s 15ms/step - loss: 1.5921 - accuracy: 0.5913 - val_loss: 1.3936 - val_accuracy: 0.6379\n",
      "Epoch 3/10\n",
      "516/516 [==============================] - 8s 15ms/step - loss: 1.0419 - accuracy: 0.7243 - val_loss: 1.1089 - val_accuracy: 0.7075\n",
      "Epoch 4/10\n",
      "516/516 [==============================] - 8s 16ms/step - loss: 0.8061 - accuracy: 0.7820 - val_loss: 0.9909 - val_accuracy: 0.7472\n",
      "Epoch 5/10\n",
      "516/516 [==============================] - 8s 15ms/step - loss: 0.6681 - accuracy: 0.8189 - val_loss: 0.9471 - val_accuracy: 0.7555\n",
      "Epoch 6/10\n",
      "516/516 [==============================] - 9s 17ms/step - loss: 0.5635 - accuracy: 0.8428 - val_loss: 0.9157 - val_accuracy: 0.7690\n",
      "Epoch 7/10\n",
      "516/516 [==============================] - 8s 15ms/step - loss: 0.4780 - accuracy: 0.8673 - val_loss: 0.9158 - val_accuracy: 0.7751\n",
      "Epoch 8/10\n",
      "516/516 [==============================] - 8s 15ms/step - loss: 0.4101 - accuracy: 0.8845 - val_loss: 0.9187 - val_accuracy: 0.7833\n",
      "Epoch 9/10\n",
      "516/516 [==============================] - 8s 16ms/step - loss: 0.3524 - accuracy: 0.8972 - val_loss: 0.9246 - val_accuracy: 0.7848\n",
      "Epoch 10/10\n",
      "516/516 [==============================] - 8s 15ms/step - loss: 0.3067 - accuracy: 0.9081 - val_loss: 0.9567 - val_accuracy: 0.7785\n"
     ]
    },
    {
     "data": {
      "text/plain": [
       "<keras.callbacks.History at 0x2ca2b62b550>"
      ]
     },
     "execution_count": 14,
     "metadata": {},
     "output_type": "execute_result"
    }
   ],
   "source": [
    "model.fit(np.expand_dims(X_train, axis=-1), y_train, epochs=10, batch_size=32, validation_data=(np.expand_dims(X_test, axis=-1), y_test))"
   ]
  },
  {
   "cell_type": "markdown",
   "id": "a85b63d1",
   "metadata": {},
   "source": [
    "### Evaluate the model on the test set"
   ]
  },
  {
   "cell_type": "code",
   "execution_count": 15,
   "id": "b52f18bf",
   "metadata": {},
   "outputs": [
    {
     "name": "stdout",
     "output_type": "stream",
     "text": [
      "129/129 [==============================] - 1s 8ms/step - loss: 0.9567 - accuracy: 0.7785\n",
      "Test Loss: 0.9566500782966614\n",
      "Test Accuracy: 0.7784779667854309\n"
     ]
    }
   ],
   "source": [
    "test_loss, test_accuracy = model.evaluate(np.expand_dims(X_test, axis=-1), y_test)\n",
    "print(\"Test Loss:\", test_loss)\n",
    "print(\"Test Accuracy:\", test_accuracy)"
   ]
  },
  {
   "cell_type": "markdown",
   "id": "81019e76",
   "metadata": {},
   "source": [
    "### Make predictions on the test set"
   ]
  },
  {
   "cell_type": "code",
   "execution_count": 17,
   "id": "2c563da2",
   "metadata": {},
   "outputs": [
    {
     "name": "stdout",
     "output_type": "stream",
     "text": [
      "129/129 [==============================] - 1s 5ms/step\n"
     ]
    }
   ],
   "source": [
    "y_pred_prob = model.predict(np.expand_dims(X_test, axis=-1))\n",
    "y_pred = np.argmax(y_pred_prob, axis=1)"
   ]
  },
  {
   "cell_type": "markdown",
   "id": "d4a264ba",
   "metadata": {},
   "source": [
    "### Print classification report and confusion matrix"
   ]
  },
  {
   "cell_type": "code",
   "execution_count": 18,
   "id": "942c0e30",
   "metadata": {},
   "outputs": [
    {
     "name": "stdout",
     "output_type": "stream",
     "text": [
      "Classification Report:\n",
      "              precision    recall  f1-score   support\n",
      "\n",
      "           0       0.62      0.62      0.62        16\n",
      "           1       0.73      0.78      0.75        41\n",
      "           2       1.00      0.75      0.86        28\n",
      "           3       0.74      0.96      0.84        27\n",
      "           4       0.80      0.36      0.50        11\n",
      "           5       0.81      0.74      0.77        23\n",
      "           6       0.56      0.62      0.59         8\n",
      "           7       0.62      0.87      0.72        15\n",
      "           8       0.88      0.70      0.78        10\n",
      "           9       0.76      1.00      0.87        13\n",
      "          10       0.86      0.55      0.67        22\n",
      "          11       0.60      0.82      0.69        11\n",
      "          12       0.78      0.86      0.82        57\n",
      "          13       0.90      0.95      0.92        38\n",
      "          14       0.67      1.00      0.80         6\n",
      "          15       0.75      0.60      0.67         5\n",
      "          16       0.67      0.86      0.76        36\n",
      "          17       0.95      0.92      0.93        38\n",
      "          18       0.92      0.77      0.84        47\n",
      "          19       0.91      0.71      0.80        45\n",
      "          20       0.77      0.90      0.83        41\n",
      "          21       0.79      0.91      0.84       116\n",
      "          22       1.00      0.54      0.70        35\n",
      "          23       0.69      0.84      0.76        67\n",
      "          24       0.89      0.90      0.89        87\n",
      "          25       0.59      0.77      0.67        13\n",
      "          26       0.89      0.36      0.52        22\n",
      "          27       0.74      0.84      0.79        55\n",
      "          28       0.70      0.86      0.78        22\n",
      "          29       0.84      0.77      0.81        62\n",
      "          30       0.74      0.92      0.82       167\n",
      "          31       0.92      0.88      0.90        25\n",
      "          32       0.81      0.76      0.78        67\n",
      "          33       0.90      0.60      0.72        15\n",
      "          34       0.93      0.75      0.83        56\n",
      "          35       0.85      0.91      0.88        32\n",
      "          36       0.84      0.83      0.83       100\n",
      "          37       0.79      0.64      0.71        36\n",
      "          38       0.88      0.89      0.88        80\n",
      "          39       0.71      0.89      0.79        89\n",
      "          40       0.88      0.88      0.88       121\n",
      "          41       0.82      0.83      0.83        94\n",
      "          42       0.92      0.89      0.90        64\n",
      "          43       0.80      0.92      0.85       119\n",
      "          44       0.86      0.73      0.79        41\n",
      "          45       0.75      0.83      0.79        29\n",
      "          46       0.83      0.71      0.77        28\n",
      "          47       0.59      0.62      0.60        21\n",
      "          48       0.67      0.67      0.67        27\n",
      "          49       0.70      0.50      0.58        14\n",
      "          50       0.77      0.57      0.66        47\n",
      "          51       0.88      0.64      0.74        11\n",
      "          52       0.39      0.77      0.52        30\n",
      "          53       0.75      0.64      0.69        14\n",
      "          54       0.84      0.86      0.85        76\n",
      "          55       0.46      0.75      0.57         8\n",
      "          56       0.77      0.67      0.71        30\n",
      "          57       0.62      0.67      0.64        24\n",
      "          58       0.78      0.69      0.73        26\n",
      "          59       0.60      0.85      0.70        33\n",
      "          60       0.56      0.88      0.68        17\n",
      "          61       0.79      0.74      0.76        70\n",
      "          62       0.71      0.59      0.65        17\n",
      "          63       0.50      0.56      0.53        16\n",
      "          64       0.86      0.83      0.84        23\n",
      "          65       1.00      0.29      0.44        14\n",
      "          66       0.53      0.75      0.62        12\n",
      "          67       0.80      0.50      0.62         8\n",
      "          68       0.65      0.50      0.56        22\n",
      "          69       0.54      0.58      0.56        12\n",
      "          70       0.73      0.57      0.64        14\n",
      "          71       0.56      0.60      0.58        15\n",
      "          72       0.46      0.46      0.46        13\n",
      "          73       0.80      0.22      0.35        18\n",
      "          74       0.62      0.68      0.65        19\n",
      "          75       0.43      0.86      0.57        14\n",
      "          76       0.57      0.21      0.31        19\n",
      "          77       0.21      0.21      0.21        14\n",
      "          78       0.62      0.47      0.53        17\n",
      "          79       0.62      0.68      0.65        22\n",
      "          80       0.76      0.76      0.76        21\n",
      "          81       0.33      0.22      0.27         9\n",
      "          82       0.94      1.00      0.97        15\n",
      "          83       0.50      0.47      0.48        15\n",
      "          84       0.90      0.81      0.86        70\n",
      "          85       0.75      0.64      0.69        14\n",
      "          86       0.75      0.33      0.46        27\n",
      "          87       0.50      0.58      0.54        12\n",
      "          88       0.82      0.74      0.78        43\n",
      "          89       0.50      0.67      0.57         6\n",
      "          90       0.86      0.92      0.89        59\n",
      "          91       0.80      0.33      0.47        12\n",
      "          92       0.86      0.86      0.86        35\n",
      "          93       0.85      0.79      0.82        43\n",
      "          94       0.44      0.50      0.47         8\n",
      "          95       0.77      0.93      0.84        54\n",
      "          96       0.62      0.83      0.71        18\n",
      "          97       0.89      0.59      0.71        29\n",
      "          98       0.77      0.59      0.67        17\n",
      "          99       0.90      0.90      0.90        21\n",
      "         100       0.65      1.00      0.79        24\n",
      "         101       0.69      0.69      0.69        13\n",
      "         102       1.00      0.89      0.94        18\n",
      "         103       0.90      0.82      0.86        11\n",
      "         104       0.64      0.70      0.67        10\n",
      "         105       0.92      0.69      0.79        16\n",
      "         106       0.86      0.43      0.57        14\n",
      "         107       0.64      0.53      0.58        17\n",
      "         108       0.62      0.45      0.53        11\n",
      "         109       0.88      0.58      0.70        12\n",
      "         110       0.70      0.47      0.56        15\n",
      "         111       0.67      0.57      0.62        14\n",
      "         112       0.82      0.47      0.60        19\n",
      "         113       0.84      1.00      0.91        16\n",
      "         114       1.00      0.64      0.78        14\n",
      "         115       0.81      0.87      0.84        15\n",
      "         116       0.67      0.25      0.36        16\n",
      "         117       1.00      0.61      0.76        18\n",
      "         118       0.69      0.69      0.69        13\n",
      "         119       0.43      0.46      0.44        13\n",
      "         120       0.88      0.87      0.87       179\n",
      "         121       0.92      0.81      0.86        42\n",
      "         122       0.85      0.87      0.86        69\n",
      "         123       0.89      0.89      0.89        92\n",
      "\n",
      "    accuracy                           0.78      4126\n",
      "   macro avg       0.75      0.70      0.71      4126\n",
      "weighted avg       0.79      0.78      0.77      4126\n",
      "\n",
      "Confusion Matrix:\n",
      "[[10  0  0 ...  0  0  0]\n",
      " [ 0 32  0 ...  0  0  0]\n",
      " [ 0  2 21 ...  0  0  0]\n",
      " ...\n",
      " [ 0  1  0 ... 34  1  0]\n",
      " [ 0  0  0 ...  0 60  0]\n",
      " [ 0  0  0 ...  0  0 82]]\n"
     ]
    }
   ],
   "source": [
    "target_names = [str(label) for label in np.unique(y_test)]\n",
    "print(\"Classification Report:\")\n",
    "print(classification_report(y_test, y_pred, target_names=target_names))\n",
    "print(\"Confusion Matrix:\")\n",
    "print(confusion_matrix(y_test, y_pred))"
   ]
  },
  {
   "cell_type": "code",
   "execution_count": null,
   "id": "dde9c128",
   "metadata": {},
   "outputs": [],
   "source": []
  }
 ],
 "metadata": {
  "kernelspec": {
   "display_name": "Python 3 (ipykernel)",
   "language": "python",
   "name": "python3"
  },
  "language_info": {
   "codemirror_mode": {
    "name": "ipython",
    "version": 3
   },
   "file_extension": ".py",
   "mimetype": "text/x-python",
   "name": "python",
   "nbconvert_exporter": "python",
   "pygments_lexer": "ipython3",
   "version": "3.10.9"
  }
 },
 "nbformat": 4,
 "nbformat_minor": 5
}
