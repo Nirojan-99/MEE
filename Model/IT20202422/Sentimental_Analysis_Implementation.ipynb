{
  "nbformat": 4,
  "nbformat_minor": 0,
  "metadata": {
    "colab": {
      "provenance": []
    },
    "kernelspec": {
      "name": "python3",
      "display_name": "Python 3"
    },
    "language_info": {
      "name": "python"
    }
  },
  "cells": [
    {
      "cell_type": "code",
      "execution_count": 20,
      "metadata": {
        "id": "hoNlOnETqiHc"
      },
      "outputs": [],
      "source": [
        "# Import the Libraries\n",
        "import pandas as pd\n",
        "import numpy as np\n",
        "import nltk\n",
        "import matplotlib.pyplot as plt\n",
        "from numpy import array\n",
        "from sklearn.preprocessing import LabelEncoder\n",
        "from sklearn.feature_extraction.text import TfidfVectorizer\n",
        "from sklearn.model_selection import train_test_split\n",
        "from sklearn.svm import SVC\n",
        "from sklearn.metrics import accuracy_score\n",
        "from nltk.corpus import stopwords\n",
        "from nltk.stem import SnowballStemmer\n",
        "from sklearn.pipeline import Pipeline\n",
        "from sklearn import svm"
      ]
    },
    {
      "cell_type": "code",
      "source": [
        "data = pd.read_csv('/content/Dataset.csv',encoding='latin1')"
      ],
      "metadata": {
        "id": "hQ9C80N0r5aA"
      },
      "execution_count": 4,
      "outputs": []
    },
    {
      "cell_type": "code",
      "source": [
        "data.dropna(inplace=True)#removing all empty spaces"
      ],
      "metadata": {
        "id": "K2W_4E3EsecU"
      },
      "execution_count": 5,
      "outputs": []
    },
    {
      "cell_type": "code",
      "source": [
        "data['COMMENTS'] = [entry.lower() for entry in data['COMMENTS']]\n",
        "\n",
        "data['Label'] = np.where(data['Label'].str.contains('Positive'), 1, 0)"
      ],
      "metadata": {
        "id": "3HWB928Xsiri"
      },
      "execution_count": 6,
      "outputs": []
    },
    {
      "cell_type": "code",
      "source": [
        "#splitting the data set as training and testing sets in 70:30 ratio\n",
        "Train_X, Test_X, Train_Y, Test_Y = train_test_split(data['COMMENTS'],data['Label'],test_size=0.3)"
      ],
      "metadata": {
        "id": "KBzO2_P8tN-q"
      },
      "execution_count": 8,
      "outputs": []
    },
    {
      "cell_type": "code",
      "source": [
        "print(Train_X.shape,Train_Y.shape)"
      ],
      "metadata": {
        "colab": {
          "base_uri": "https://localhost:8080/"
        },
        "id": "qXb4OfrstdMm",
        "outputId": "67c3178c-d39c-45e6-c8d4-9b58bc3a2324"
      },
      "execution_count": 9,
      "outputs": [
        {
          "output_type": "stream",
          "name": "stdout",
          "text": [
            "(2014,) (2014,)\n"
          ]
        }
      ]
    },
    {
      "cell_type": "code",
      "source": [
        "Encoder = LabelEncoder()"
      ],
      "metadata": {
        "id": "NyTzSiEKt-vV"
      },
      "execution_count": 10,
      "outputs": []
    },
    {
      "cell_type": "code",
      "source": [
        "Train_Y = Encoder.fit_transform(Train_Y)"
      ],
      "metadata": {
        "id": "7POlzFmXuAkX"
      },
      "execution_count": 11,
      "outputs": []
    },
    {
      "cell_type": "code",
      "source": [
        "Test_Y = Encoder.fit_transform(Test_Y)"
      ],
      "metadata": {
        "id": "LKfma2fluFXi"
      },
      "execution_count": 12,
      "outputs": []
    },
    {
      "cell_type": "code",
      "source": [
        "vectorizer = TfidfVectorizer()"
      ],
      "metadata": {
        "id": "2luhl0tyuI9q"
      },
      "execution_count": 13,
      "outputs": []
    },
    {
      "cell_type": "markdown",
      "source": [
        "**values of tfidf for train data and test data:**"
      ],
      "metadata": {
        "id": "sbPWNdkCxhKt"
      }
    },
    {
      "cell_type": "code",
      "source": [
        "X_train_features = vectorizer.fit_transform(Train_X)"
      ],
      "metadata": {
        "id": "7GvdDWkWJ3Rl"
      },
      "execution_count": 15,
      "outputs": []
    },
    {
      "cell_type": "code",
      "source": [
        "X_test_features = vectorizer.transform(Test_X)"
      ],
      "metadata": {
        "id": "SKD7w_cRJ699"
      },
      "execution_count": 16,
      "outputs": []
    },
    {
      "cell_type": "code",
      "source": [
        "print(X_train_features)"
      ],
      "metadata": {
        "colab": {
          "base_uri": "https://localhost:8080/"
        },
        "id": "BoH-zWrvvFuC",
        "outputId": "721c09ea-624c-4ce5-8a03-e8dd1ac46e46"
      },
      "execution_count": 17,
      "outputs": [
        {
          "output_type": "stream",
          "name": "stdout",
          "text": [
            "  (0, 18)\t0.14973951668264476\n",
            "  (0, 16)\t0.314804760127106\n",
            "  (0, 13)\t0.9372705266597063\n",
            "  (1, 15)\t0.4880499053393847\n",
            "  (1, 18)\t0.3678642561382975\n",
            "  (1, 16)\t0.19334478546232547\n",
            "  (1, 13)\t0.767529134879297\n",
            "  (2, 14)\t0.2359387512985543\n",
            "  (2, 18)\t0.7809659438419139\n",
            "  (2, 16)\t0.4104657909702729\n",
            "  (2, 13)\t0.4073609390183792\n",
            "  (3, 18)\t0.46755048585687675\n",
            "  (3, 16)\t0.7372158088674331\n",
            "  (3, 13)\t0.4877595661090972\n",
            "  (4, 14)\t0.2381965433014018\n",
            "  (4, 15)\t0.26150796679261756\n",
            "  (4, 18)\t0.39421965920271534\n",
            "  (4, 16)\t0.20719685090830148\n",
            "  (4, 13)\t0.8225182765963518\n",
            "  (5, 14)\t0.6434251323577057\n",
            "  (5, 15)\t0.3531973970193719\n",
            "  (5, 18)\t0.26622010639293775\n",
            "  (5, 16)\t0.5596876401815909\n",
            "  (5, 13)\t0.2777270209563769\n",
            "  (6, 15)\t0.14738305058709875\n",
            "  :\t:\n",
            "  (2007, 15)\t0.19185501479345482\n",
            "  (2007, 18)\t0.14460939656225957\n",
            "  (2007, 16)\t0.30401945595557006\n",
            "  (2007, 13)\t0.90515936126005\n",
            "  (2008, 14)\t0.6558422658412544\n",
            "  (2008, 13)\t0.7548979549159007\n",
            "  (2009, 15)\t0.2516573409290925\n",
            "  (2009, 18)\t0.3793699763479981\n",
            "  (2009, 16)\t0.7975681840670679\n",
            "  (2009, 13)\t0.39576760297702174\n",
            "  (2010, 14)\t0.34519731695786166\n",
            "  (2010, 18)\t0.2856539535853522\n",
            "  (2010, 13)\t0.8940025901339163\n",
            "  (2011, 14)\t0.5810457428570515\n",
            "  (2011, 15)\t0.6379105621015928\n",
            "  (2011, 16)\t0.5054265124297767\n",
            "  (2012, 14)\t0.4525046678832459\n",
            "  (2012, 15)\t0.1655965475991858\n",
            "  (2012, 18)\t0.3744517730781052\n",
            "  (2012, 16)\t0.13120473385442788\n",
            "  (2012, 13)\t0.7812736373511883\n",
            "  (2013, 14)\t0.5267062820812092\n",
            "  (2013, 18)\t0.21792714552457737\n",
            "  (2013, 16)\t0.45815897027000996\n",
            "  (2013, 13)\t0.6820400352038167\n"
          ]
        }
      ]
    },
    {
      "cell_type": "code",
      "source": [
        "#SVM function inbuilt in the library\n",
        "SVM = svm.SVC(C=1.0, kernel='linear', degree=3, gamma='auto')"
      ],
      "metadata": {
        "id": "JF0sr52ovUAL"
      },
      "execution_count": 21,
      "outputs": []
    },
    {
      "cell_type": "code",
      "source": [
        "SVM.fit(X_train_features,Train_Y)"
      ],
      "metadata": {
        "colab": {
          "base_uri": "https://localhost:8080/",
          "height": 74
        },
        "id": "1MS4tPXlvvfC",
        "outputId": "85014049-fc6e-486a-97f6-1f79d04413cf"
      },
      "execution_count": 24,
      "outputs": [
        {
          "output_type": "execute_result",
          "data": {
            "text/plain": [
              "SVC(gamma='auto', kernel='linear')"
            ],
            "text/html": [
              "<style>#sk-container-id-1 {color: black;background-color: white;}#sk-container-id-1 pre{padding: 0;}#sk-container-id-1 div.sk-toggleable {background-color: white;}#sk-container-id-1 label.sk-toggleable__label {cursor: pointer;display: block;width: 100%;margin-bottom: 0;padding: 0.3em;box-sizing: border-box;text-align: center;}#sk-container-id-1 label.sk-toggleable__label-arrow:before {content: \"▸\";float: left;margin-right: 0.25em;color: #696969;}#sk-container-id-1 label.sk-toggleable__label-arrow:hover:before {color: black;}#sk-container-id-1 div.sk-estimator:hover label.sk-toggleable__label-arrow:before {color: black;}#sk-container-id-1 div.sk-toggleable__content {max-height: 0;max-width: 0;overflow: hidden;text-align: left;background-color: #f0f8ff;}#sk-container-id-1 div.sk-toggleable__content pre {margin: 0.2em;color: black;border-radius: 0.25em;background-color: #f0f8ff;}#sk-container-id-1 input.sk-toggleable__control:checked~div.sk-toggleable__content {max-height: 200px;max-width: 100%;overflow: auto;}#sk-container-id-1 input.sk-toggleable__control:checked~label.sk-toggleable__label-arrow:before {content: \"▾\";}#sk-container-id-1 div.sk-estimator input.sk-toggleable__control:checked~label.sk-toggleable__label {background-color: #d4ebff;}#sk-container-id-1 div.sk-label input.sk-toggleable__control:checked~label.sk-toggleable__label {background-color: #d4ebff;}#sk-container-id-1 input.sk-hidden--visually {border: 0;clip: rect(1px 1px 1px 1px);clip: rect(1px, 1px, 1px, 1px);height: 1px;margin: -1px;overflow: hidden;padding: 0;position: absolute;width: 1px;}#sk-container-id-1 div.sk-estimator {font-family: monospace;background-color: #f0f8ff;border: 1px dotted black;border-radius: 0.25em;box-sizing: border-box;margin-bottom: 0.5em;}#sk-container-id-1 div.sk-estimator:hover {background-color: #d4ebff;}#sk-container-id-1 div.sk-parallel-item::after {content: \"\";width: 100%;border-bottom: 1px solid gray;flex-grow: 1;}#sk-container-id-1 div.sk-label:hover label.sk-toggleable__label {background-color: #d4ebff;}#sk-container-id-1 div.sk-serial::before {content: \"\";position: absolute;border-left: 1px solid gray;box-sizing: border-box;top: 0;bottom: 0;left: 50%;z-index: 0;}#sk-container-id-1 div.sk-serial {display: flex;flex-direction: column;align-items: center;background-color: white;padding-right: 0.2em;padding-left: 0.2em;position: relative;}#sk-container-id-1 div.sk-item {position: relative;z-index: 1;}#sk-container-id-1 div.sk-parallel {display: flex;align-items: stretch;justify-content: center;background-color: white;position: relative;}#sk-container-id-1 div.sk-item::before, #sk-container-id-1 div.sk-parallel-item::before {content: \"\";position: absolute;border-left: 1px solid gray;box-sizing: border-box;top: 0;bottom: 0;left: 50%;z-index: -1;}#sk-container-id-1 div.sk-parallel-item {display: flex;flex-direction: column;z-index: 1;position: relative;background-color: white;}#sk-container-id-1 div.sk-parallel-item:first-child::after {align-self: flex-end;width: 50%;}#sk-container-id-1 div.sk-parallel-item:last-child::after {align-self: flex-start;width: 50%;}#sk-container-id-1 div.sk-parallel-item:only-child::after {width: 0;}#sk-container-id-1 div.sk-dashed-wrapped {border: 1px dashed gray;margin: 0 0.4em 0.5em 0.4em;box-sizing: border-box;padding-bottom: 0.4em;background-color: white;}#sk-container-id-1 div.sk-label label {font-family: monospace;font-weight: bold;display: inline-block;line-height: 1.2em;}#sk-container-id-1 div.sk-label-container {text-align: center;}#sk-container-id-1 div.sk-container {/* jupyter's `normalize.less` sets `[hidden] { display: none; }` but bootstrap.min.css set `[hidden] { display: none !important; }` so we also need the `!important` here to be able to override the default hidden behavior on the sphinx rendered scikit-learn.org. See: https://github.com/scikit-learn/scikit-learn/issues/21755 */display: inline-block !important;position: relative;}#sk-container-id-1 div.sk-text-repr-fallback {display: none;}</style><div id=\"sk-container-id-1\" class=\"sk-top-container\"><div class=\"sk-text-repr-fallback\"><pre>SVC(gamma=&#x27;auto&#x27;, kernel=&#x27;linear&#x27;)</pre><b>In a Jupyter environment, please rerun this cell to show the HTML representation or trust the notebook. <br />On GitHub, the HTML representation is unable to render, please try loading this page with nbviewer.org.</b></div><div class=\"sk-container\" hidden><div class=\"sk-item\"><div class=\"sk-estimator sk-toggleable\"><input class=\"sk-toggleable__control sk-hidden--visually\" id=\"sk-estimator-id-1\" type=\"checkbox\" checked><label for=\"sk-estimator-id-1\" class=\"sk-toggleable__label sk-toggleable__label-arrow\">SVC</label><div class=\"sk-toggleable__content\"><pre>SVC(gamma=&#x27;auto&#x27;, kernel=&#x27;linear&#x27;)</pre></div></div></div></div></div>"
            ]
          },
          "metadata": {},
          "execution_count": 24
        }
      ]
    },
    {
      "cell_type": "code",
      "source": [
        "# predict the labels on validation dataset\n",
        "predictions_SVM = SVM.predict(X_test_features)"
      ],
      "metadata": {
        "id": "iwZ6BewjwJ_A"
      },
      "execution_count": 26,
      "outputs": []
    },
    {
      "cell_type": "code",
      "source": [
        "# Use accuracy_score function to get the accuracy\n",
        "print(\" Accuracy Score -> \",accuracy_score(predictions_SVM, Test_Y))"
      ],
      "metadata": {
        "colab": {
          "base_uri": "https://localhost:8080/"
        },
        "id": "3RreufZ0wWxo",
        "outputId": "2f743dc7-c67a-4398-9698-140447db09de"
      },
      "execution_count": 28,
      "outputs": [
        {
          "output_type": "stream",
          "name": "stdout",
          "text": [
            " Accuracy Score ->  0.9872685185185185\n"
          ]
        }
      ]
    },
    {
      "cell_type": "code",
      "source": [
        "#accuracy score in percentage\n",
        "print(\" Accuracy Percentage -> \",accuracy_score(predictions_SVM, Test_Y)*100 )"
      ],
      "metadata": {
        "colab": {
          "base_uri": "https://localhost:8080/"
        },
        "id": "_xZqr5-6zPln",
        "outputId": "a08bac48-f7c0-45c4-f2eb-df4a947f16b0"
      },
      "execution_count": 31,
      "outputs": [
        {
          "output_type": "stream",
          "name": "stdout",
          "text": [
            " Accuracy Percentage ->  98.72685185185185\n"
          ]
        }
      ]
    }
  ]
}